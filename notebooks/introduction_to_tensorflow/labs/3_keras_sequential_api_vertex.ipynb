{
 "cells": [
  {
   "cell_type": "markdown",
   "metadata": {},
   "source": [
    "# Introducing the Keras Sequential API"
   ]
  },
  {
   "cell_type": "markdown",
   "metadata": {},
   "source": [
    "**Learning Objectives**\n",
    "  1. Build a DNN model using the Keras Sequential API\n",
    "  1. Learn how to train a model with Keras\n",
    "  1. Learn how to save/load, and deploy a Keras model on GCP\n",
    "  1. Learn how to deploy and make predictions with the Keras model"
   ]
  },
  {
   "cell_type": "markdown",
   "metadata": {},
   "source": [
    "## Introduction"
   ]
  },
  {
   "cell_type": "markdown",
   "metadata": {},
   "source": [
    "The [Keras sequential API](https://keras.io/models/sequential/) allows you to create Tensorflow models layer-by-layer. This is useful for building most kinds of machine learning models but it does not allow you to create models that share layers, re-use layers or have multiple inputs or outputs. \n",
    "\n",
    "In this lab, we'll see how to build a simple deep neural network model using the Keras sequential api. Once we have trained our model, we will deploy it using Vertex AI and see how to call our model for online prediciton.\n"
   ]
  },
  {
   "cell_type": "markdown",
   "metadata": {},
   "source": [
    "Start by importing the necessary libraries for this lab."
   ]
  },
  {
   "cell_type": "code",
   "execution_count": 1,
   "metadata": {},
   "outputs": [
    {
     "name": "stdout",
     "output_type": "stream",
     "text": [
      "2.8.1\n"
     ]
    }
   ],
   "source": [
    "import datetime\n",
    "import os\n",
    "import shutil\n",
    "\n",
    "import numpy as np\n",
    "import pandas as pd\n",
    "import tensorflow as tf\n",
    "from google.cloud import aiplatform\n",
    "from matplotlib import pyplot as plt\n",
    "from tensorflow import keras\n",
    "from tensorflow.keras.callbacks import TensorBoard\n",
    "from tensorflow.keras.layers import Dense\n",
    "from tensorflow.keras.models import Sequential\n",
    "\n",
    "print(tf.__version__)\n",
    "%matplotlib inline"
   ]
  },
  {
   "cell_type": "markdown",
   "metadata": {},
   "source": [
    "## Load raw data"
   ]
  },
  {
   "cell_type": "markdown",
   "metadata": {},
   "source": [
    "We will use the taxifare dataset, using the CSV files that we created in the first notebook of this sequence. Those files have been saved into `../data`."
   ]
  },
  {
   "cell_type": "code",
   "execution_count": 2,
   "metadata": {},
   "outputs": [
    {
     "name": "stdout",
     "output_type": "stream",
     "text": [
      "-rw-r--r-- 1 jupyter jupyter 123590 Jul 11 17:34 ../data/taxi-test.csv\n",
      "-rw-r--r-- 1 jupyter jupyter 579055 Jul 11 17:34 ../data/taxi-train.csv\n",
      "-rw-r--r-- 1 jupyter jupyter 123114 Jul 11 17:34 ../data/taxi-valid.csv\n"
     ]
    }
   ],
   "source": [
    "!ls -l ../data/*.csv"
   ]
  },
  {
   "cell_type": "code",
   "execution_count": 3,
   "metadata": {},
   "outputs": [
    {
     "name": "stdout",
     "output_type": "stream",
     "text": [
      "==> ../data/taxi-test.csv <==\n",
      "6.0,2013-03-27 03:35:00 UTC,-73.977672,40.784052,-73.965332,40.801025,2,0\n",
      "19.3,2012-05-10 18:43:16 UTC,-73.954366,40.778924,-74.004094,40.723104,1,1\n",
      "7.5,2014-05-20 23:09:00 UTC,-73.999165,40.738377,-74.003473,40.723862,2,2\n",
      "12.5,2015-02-23 19:51:31 UTC,-73.9652099609375,40.76948165893555,-73.98949432373047,40.739742279052734,1,3\n",
      "10.9,2011-03-19 03:32:00 UTC,-73.99259,40.742957,-73.989908,40.711053,1,4\n",
      "7.0,2012-09-18 12:51:11 UTC,-73.971195,40.751566,-73.975922,40.756361,1,5\n",
      "19.0,2014-05-20 23:09:00 UTC,-73.998392,40.74517,-73.939845,40.74908,1,6\n",
      "8.9,2012-07-18 08:46:08 UTC,-73.997638,40.756541,-73.973303,40.762019,1,7\n",
      "4.5,2010-07-11 20:39:08 UTC,-73.976738,40.751321,-73.986671,40.74883,1,8\n",
      "7.0,2013-12-12 02:16:40 UTC,-73.985024,40.767537,-73.981273,40.779302,1,9\n",
      "\n",
      "==> ../data/taxi-train.csv <==\n",
      "11.3,2011-01-28 20:42:59 UTC,-73.999022,40.739146,-73.990369,40.717866,1,0\n",
      "7.7,2011-06-27 04:28:06 UTC,-73.987443,40.729221,-73.979013,40.758641,1,1\n",
      "10.5,2011-04-03 00:54:53 UTC,-73.982539,40.735725,-73.954797,40.778388,1,2\n",
      "16.2,2009-04-10 04:11:56 UTC,-74.001945,40.740505,-73.91385,40.758559,1,3\n",
      "33.5,2014-02-24 18:22:00 UTC,-73.993372,40.753382,-73.8609,40.732897,2,4\n",
      "6.9,2011-12-10 00:25:23 UTC,-73.996237,40.721848,-73.989416,40.718052,1,5\n",
      "6.1,2012-09-01 14:30:19 UTC,-73.977048,40.758461,-73.984899,40.744693,2,6\n",
      "9.5,2012-11-08 13:28:07 UTC,-73.969402,40.757545,-73.950049,40.776079,1,7\n",
      "9.0,2014-07-15 11:37:25 UTC,-73.979318,40.760949,-73.95767,40.773724,1,8\n",
      "3.3,2009-11-09 18:06:58 UTC,-73.955675,40.779154,-73.961172,40.772368,1,9\n",
      "\n",
      "==> ../data/taxi-valid.csv <==\n",
      "5.3,2012-01-03 19:21:35 UTC,-73.962627,40.763214,-73.973485,40.753353,1,0\n",
      "25.3,2010-09-27 07:30:15 UTC,-73.965799,40.794243,-73.927134,40.852261,3,1\n",
      "27.5,2015-05-19 00:40:02 UTC,-73.86344146728516,40.76899719238281,-73.96058654785156,40.76129913330078,1,2\n",
      "5.7,2010-04-29 12:28:00 UTC,-73.989255,40.738912,-73.97558,40.749172,1,3\n",
      "11.5,2013-06-23 06:08:09 UTC,-73.99731,40.763735,-73.955657,40.768141,1,4\n",
      "18.0,2014-10-14 18:52:03 UTC,-73.997995,40.761638,-74.008985,40.712442,1,5\n",
      "4.9,2010-04-29 12:28:00 UTC,-73.977315,40.766182,-73.970845,40.761462,5,6\n",
      "32.33,2014-02-24 18:22:00 UTC,-73.985358,40.761352,-73.92427,40.699145,1,7\n",
      "17.0,2015-03-26 02:48:58 UTC,-73.93981170654297,40.846473693847656,-73.97361755371094,40.786983489990234,1,8\n",
      "12.5,2013-04-09 09:39:13 UTC,-73.977323,40.753934,-74.00719,40.741472,1,9\n"
     ]
    }
   ],
   "source": [
    "!head ../data/taxi*.csv"
   ]
  },
  {
   "cell_type": "markdown",
   "metadata": {},
   "source": [
    "## Use tf.data to read the CSV files"
   ]
  },
  {
   "cell_type": "markdown",
   "metadata": {},
   "source": [
    "We wrote these functions for reading data from the csv files above in the [previous notebook](./2a_dataset_api.ipynb)."
   ]
  },
  {
   "cell_type": "code",
   "execution_count": 4,
   "metadata": {},
   "outputs": [],
   "source": [
    "def parse_csv(row):\n",
    "    ds = tf.strings.split(row, \",\")\n",
    "    label = tf.strings.to_number(ds[0])\n",
    "    features = tf.strings.to_number(\n",
    "        ds[2:6]\n",
    "    )  # return pickup and drop off location only\n",
    "    return features, label\n",
    "\n",
    "\n",
    "def create_dataset(pattern, batch_size):\n",
    "    ds = tf.data.TextLineDataset(pattern)\n",
    "    ds = ds.map(parse_csv).batch(batch_size)\n",
    "    return ds"
   ]
  },
  {
   "cell_type": "markdown",
   "metadata": {},
   "source": [
    "## Build a simple keras DNN model"
   ]
  },
  {
   "cell_type": "markdown",
   "metadata": {},
   "source": [
    "Next, we create the DNN model. The Sequential model is a linear stack of layers and when building a model using the Sequential API, you configure each layer of the model in turn. Once all the layers have been added, you compile the model. "
   ]
  },
  {
   "cell_type": "markdown",
   "metadata": {},
   "source": [
    "**Exercise.** Create a deep neural network using Keras's Sequential API. In the cell below, use the `tf.keras.layers` library to create all the layers for your deep neural network. "
   ]
  },
  {
   "cell_type": "code",
   "execution_count": 5,
   "metadata": {},
   "outputs": [
    {
     "name": "stderr",
     "output_type": "stream",
     "text": [
      "2022-07-13 18:12:08.922586: I tensorflow/core/common_runtime/process_util.cc:146] Creating new thread pool with default inter op setting: 2. Tune using inter_op_parallelism_threads for best performance.\n"
     ]
    }
   ],
   "source": [
    "# Build a keras DNN model using Sequential API\n",
    "model =  tf.keras.models.Sequential([\n",
    "                                    tf.keras.layers.Dense(32, input_shape=(4,), activation='relu', name=\"input_layer\"),\n",
    "    tf.keras.layers.BatchNormalization(),\n",
    "    tf.keras.layers.Dense(16, activation='relu'),\n",
    "                                    tf.keras.layers.Dense(8, activation='relu'),\n",
    "                                    tf.keras.layers.Dense(1, activation='linear')])# TODO: Your code here"
   ]
  },
  {
   "cell_type": "markdown",
   "metadata": {},
   "source": [
    "Next, to prepare the model for training, you must configure the learning process. This is done using the compile method. The compile method takes three arguments:\n",
    "\n",
    "* An optimizer. This could be the string identifier of an existing optimizer (such as `rmsprop` or `adagrad`), or an instance of the [Optimizer class](https://www.tensorflow.org/versions/r2.0/api_docs/python/tf/keras/optimizers).\n",
    "* A loss function. This is the objective that the model will try to minimize. It can be the string identifier of an existing loss function from the [Losses class](https://www.tensorflow.org/versions/r2.0/api_docs/python/tf/keras/losses) (such as categorical_crossentropy or mse), or it can be a custom objective function.\n",
    "* A list of metrics. For any machine learning problem you will want a set of metrics to evaluate your model. A metric could be the string identifier of an existing metric or a custom metric function.\n",
    "\n",
    "We will add an additional custom metric called `rmse` to our list of metrics which will return the root mean square error. "
   ]
  },
  {
   "cell_type": "markdown",
   "metadata": {},
   "source": [
    "**Exercise.** Compile the model you created above. Create a custom loss function called `rmse` which computes the root mean squared error between `y_true` and `y_pred`. Pass this function to the model as an evaluation metric. "
   ]
  },
  {
   "cell_type": "code",
   "execution_count": 6,
   "metadata": {},
   "outputs": [],
   "source": [
    "# Create a custom evalution metric\n",
    "def rmse(y_true, y_pred):\n",
    "    return  tf.sqrt(tf.reduce_mean(tf.square(y_pred - y_true))) # TODO: Your code here\n",
    "\n",
    "\n",
    "# Compile the keras model\n",
    "# TODO: Your code here\n",
    "model.compile(optimizer='adam', loss='mse', metrics=[rmse, 'mse'])"
   ]
  },
  {
   "cell_type": "markdown",
   "metadata": {},
   "source": [
    "## Train the model"
   ]
  },
  {
   "cell_type": "markdown",
   "metadata": {},
   "source": [
    "To train your model, Keras provides two functions that can be used:\n",
    " 1. `.fit()` for training a model for a fixed number of epochs (iterations on a dataset).\n",
    " 2. `.train_on_batch()` runs a single gradient update on a single batch of data. \n",
    " \n",
    "The `.fit()` function works for various formats of data such as Numpy array, list of Tensors tf.data and Python generators. The `.train_on_batch()` method is for more fine-grained control over training and accepts only a single batch of data.\n",
    "\n",
    "Our `create_dataset` function above generates batches of training examples, so we can use `.fit`. \n",
    "\n",
    "We start by setting up some parameters for our training job and create the data generators for the training and validation data.\n"
   ]
  },
  {
   "cell_type": "code",
   "execution_count": 7,
   "metadata": {},
   "outputs": [],
   "source": [
    "trainds = create_dataset(pattern=\"../data/taxi-train.csv\", batch_size=16)\n",
    "\n",
    "evalds = create_dataset(pattern=\"../data/taxi-valid.csv\", batch_size=16)"
   ]
  },
  {
   "cell_type": "markdown",
   "metadata": {},
   "source": [
    "There are various arguments you can set when calling the [.fit method](https://www.tensorflow.org/versions/r2.0/api_docs/python/tf/keras/Model#fit). Here `x` specifies the input data which in our case is a `tf.data` dataset returning a tuple of (inputs, targets). The `steps_per_epoch` parameter is used to mark the end of training for a single epoch. Here we are training for NUM_EVALS epochs. Lastly, for the `callback` argument we specify a Tensorboard callback so we can inspect Tensorboard after training. "
   ]
  },
  {
   "cell_type": "markdown",
   "metadata": {},
   "source": [
    "**Exercise.** In the cell below, you will train your model. Train your model using `.fit()`, saving the model training output to a variable called `history`."
   ]
  },
  {
   "cell_type": "code",
   "execution_count": 8,
   "metadata": {},
   "outputs": [
    {
     "name": "stdout",
     "output_type": "stream",
     "text": [
      "Epoch 1/20\n",
      "459/459 [==============================] - 5s 8ms/step - loss: 107.8755 - rmse: 9.2887 - mse: 107.8755 - val_loss: 369.5570 - val_rmse: 19.0844 - val_mse: 369.5570\n",
      "Epoch 2/20\n",
      "459/459 [==============================] - 4s 8ms/step - loss: 65.7225 - rmse: 7.2897 - mse: 65.7225 - val_loss: 64914.8203 - val_rmse: 254.7083 - val_mse: 64914.8203\n",
      "Epoch 3/20\n",
      "459/459 [==============================] - 3s 7ms/step - loss: 60.6068 - rmse: 6.9969 - mse: 60.6068 - val_loss: 125652.1172 - val_rmse: 354.3670 - val_mse: 125652.1172\n",
      "Epoch 4/20\n",
      "459/459 [==============================] - 3s 7ms/step - loss: 48.3376 - rmse: 6.1651 - mse: 48.3376 - val_loss: 145171.5000 - val_rmse: 381.0465 - val_mse: 145171.5000\n",
      "Epoch 5/20\n",
      "459/459 [==============================] - 3s 7ms/step - loss: 37.2799 - rmse: 5.2701 - mse: 37.2799 - val_loss: 40357.6562 - val_rmse: 200.8007 - val_mse: 40357.6562\n",
      "Epoch 6/20\n",
      "459/459 [==============================] - 3s 7ms/step - loss: 35.4341 - rmse: 5.0932 - mse: 35.4341 - val_loss: 96198.2422 - val_rmse: 310.0628 - val_mse: 96198.2422\n",
      "Epoch 7/20\n",
      "459/459 [==============================] - 4s 8ms/step - loss: 34.4811 - rmse: 4.9928 - mse: 34.4811 - val_loss: 80657.3828 - val_rmse: 283.8959 - val_mse: 80657.3828\n",
      "Epoch 8/20\n",
      "459/459 [==============================] - 3s 7ms/step - loss: 33.1509 - rmse: 4.8493 - mse: 33.1509 - val_loss: 380191.5000 - val_rmse: 616.4642 - val_mse: 380191.5000\n",
      "Epoch 9/20\n",
      "459/459 [==============================] - 3s 7ms/step - loss: 32.4315 - rmse: 4.7672 - mse: 32.4315 - val_loss: 59114.9336 - val_rmse: 243.1431 - val_mse: 59114.9336\n",
      "Epoch 10/20\n",
      "459/459 [==============================] - 3s 7ms/step - loss: 31.2448 - rmse: 4.6288 - mse: 31.2448 - val_loss: 373671.7188 - val_rmse: 611.2971 - val_mse: 373671.7188\n",
      "Epoch 11/20\n",
      "459/459 [==============================] - 4s 8ms/step - loss: 29.5234 - rmse: 4.4283 - mse: 29.5234 - val_loss: 1000635.5625 - val_rmse: 1000.3295 - val_mse: 1000635.5625\n",
      "Epoch 12/20\n",
      "459/459 [==============================] - 3s 7ms/step - loss: 28.2641 - rmse: 4.2901 - mse: 28.2641 - val_loss: 950343.6875 - val_rmse: 974.7568 - val_mse: 950343.6875\n",
      "Epoch 13/20\n",
      "459/459 [==============================] - 3s 7ms/step - loss: 27.7049 - rmse: 4.2247 - mse: 27.7049 - val_loss: 671631.0625 - val_rmse: 819.4612 - val_mse: 671631.0625\n",
      "Epoch 14/20\n",
      "459/459 [==============================] - 3s 8ms/step - loss: 27.3067 - rmse: 4.1780 - mse: 27.3067 - val_loss: 1418066.2500 - val_rmse: 1190.7438 - val_mse: 1418066.2500\n",
      "Epoch 15/20\n",
      "459/459 [==============================] - 3s 6ms/step - loss: 27.0859 - rmse: 4.1575 - mse: 27.0859 - val_loss: 1355582.3750 - val_rmse: 1164.2191 - val_mse: 1355582.3750\n",
      "Epoch 16/20\n",
      "459/459 [==============================] - 4s 8ms/step - loss: 26.9324 - rmse: 4.1434 - mse: 26.9324 - val_loss: 1198071.5000 - val_rmse: 1094.4872 - val_mse: 1198071.5000\n",
      "Epoch 17/20\n",
      "459/459 [==============================] - 3s 7ms/step - loss: 26.8160 - rmse: 4.1324 - mse: 26.8160 - val_loss: 1169989.7500 - val_rmse: 1081.5776 - val_mse: 1169989.7500\n",
      "Epoch 18/20\n",
      "459/459 [==============================] - 3s 7ms/step - loss: 26.6711 - rmse: 4.1186 - mse: 26.6711 - val_loss: 1246824.3750 - val_rmse: 1116.5344 - val_mse: 1246824.3750\n",
      "Epoch 19/20\n",
      "459/459 [==============================] - 3s 7ms/step - loss: 26.5607 - rmse: 4.1078 - mse: 26.5607 - val_loss: 1290457.8750 - val_rmse: 1135.8951 - val_mse: 1290457.8750\n",
      "Epoch 20/20\n",
      "459/459 [==============================] - 3s 7ms/step - loss: 26.4282 - rmse: 4.0964 - mse: 26.4282 - val_loss: 1394249.0000 - val_rmse: 1180.7021 - val_mse: 1394249.0000\n",
      "CPU times: user 2min 15s, sys: 2min 1s, total: 4min 17s\n",
      "Wall time: 1min 18s\n"
     ]
    }
   ],
   "source": [
    "%%time\n",
    "LOGDIR = \"./taxi_trained\"\n",
    "history = model.fit(x=trainds, epochs=20, validation_data=evalds,\n",
    "                   callbacks=[TensorBoard(LOGDIR)]) # TODO: Your code here"
   ]
  },
  {
   "cell_type": "markdown",
   "metadata": {},
   "source": [
    "### High-level model evaluation"
   ]
  },
  {
   "cell_type": "markdown",
   "metadata": {},
   "source": [
    "Once we've run data through the model, we can call `.summary()` on the model to get a high-level summary of our network. We can also plot the training and evaluation curves for the metrics we computed above. "
   ]
  },
  {
   "cell_type": "code",
   "execution_count": 9,
   "metadata": {},
   "outputs": [
    {
     "name": "stdout",
     "output_type": "stream",
     "text": [
      "Model: \"sequential\"\n",
      "_________________________________________________________________\n",
      " Layer (type)                Output Shape              Param #   \n",
      "=================================================================\n",
      " input_layer (Dense)         (None, 32)                160       \n",
      "                                                                 \n",
      " batch_normalization (BatchN  (None, 32)               128       \n",
      " ormalization)                                                   \n",
      "                                                                 \n",
      " dense (Dense)               (None, 16)                528       \n",
      "                                                                 \n",
      " dense_1 (Dense)             (None, 8)                 136       \n",
      "                                                                 \n",
      " dense_2 (Dense)             (None, 1)                 9         \n",
      "                                                                 \n",
      "=================================================================\n",
      "Total params: 961\n",
      "Trainable params: 897\n",
      "Non-trainable params: 64\n",
      "_________________________________________________________________\n"
     ]
    }
   ],
   "source": [
    "model.summary()"
   ]
  },
  {
   "cell_type": "markdown",
   "metadata": {},
   "source": [
    "Running `.fit` (or `.fit_generator`) returns a History object which collects all the events recorded during training. Similar to Tensorboard, we can plot the training and validation curves for the model loss and rmse by accessing these elements of the History object."
   ]
  },
  {
   "cell_type": "code",
   "execution_count": 10,
   "metadata": {},
   "outputs": [
    {
     "data": {
      "text/plain": [
       "<AxesSubplot:>"
      ]
     },
     "execution_count": 10,
     "metadata": {},
     "output_type": "execute_result"
    },
    {
     "data": {
      "image/png": "[encoded data removed]",
      "text/plain": [
       "<Figure size 432x288 with 1 Axes>"
      ]
     },
     "metadata": {
      "needs_background": "light"
     },
     "output_type": "display_data"
    }
   ],
   "source": [
    "RMSE_COLS = [\"rmse\", \"val_rmse\"]\n",
    "\n",
    "pd.DataFrame(history.history)[RMSE_COLS].plot()"
   ]
  },
  {
   "cell_type": "code",
   "execution_count": 11,
   "metadata": {},
   "outputs": [
    {
     "data": {
      "text/plain": [
       "<AxesSubplot:>"
      ]
     },
     "execution_count": 11,
     "metadata": {},
     "output_type": "execute_result"
    },
    {
     "data": {
      "image/png": "[encoded data removed]",
      "text/plain": [
       "<Figure size 432x288 with 1 Axes>"
      ]
     },
     "metadata": {
      "needs_background": "light"
     },
     "output_type": "display_data"
    }
   ],
   "source": [
    "LOSS_COLS = [\"loss\", \"val_loss\"]\n",
    "\n",
    "pd.DataFrame(history.history)[LOSS_COLS].plot()"
   ]
  },
  {
   "cell_type": "markdown",
   "metadata": {},
   "source": [
    "# Making predictions with our model"
   ]
  },
  {
   "cell_type": "markdown",
   "metadata": {},
   "source": [
    "To make predictions with our trained model, we can call the [predict method](https://www.tensorflow.org/api_docs/python/tf/keras/Model#predict), passing to it a dictionary of values. The `steps` parameter determines the total number of steps before declaring the prediction round finished. Here since we have just one example, we set `steps=1` (setting `steps=None` would also work). Note, however, that if x is a `tf.data` dataset or a dataset iterator, and steps is set to None, predict will run until the input dataset is exhausted."
   ]
  },
  {
   "cell_type": "code",
   "execution_count": 12,
   "metadata": {},
   "outputs": [
    {
     "data": {
      "text/plain": [
       "array([[1194.3138]], dtype=float32)"
      ]
     },
     "execution_count": 12,
     "metadata": {},
     "output_type": "execute_result"
    }
   ],
   "source": [
    "model.predict([[-73.982683, 40.742104, -73.983766, 40.755174]])"
   ]
  },
  {
   "cell_type": "markdown",
   "metadata": {},
   "source": [
    "# Export and deploy our model"
   ]
  },
  {
   "cell_type": "markdown",
   "metadata": {},
   "source": [
    "Of course, making individual predictions is not realistic, because we can't expect client code to have a model object in memory. For others to use our trained model, we'll have to export our model to a file, and expect client code to instantiate the model from that exported file. \n",
    "\n",
    "We'll export the model to a TensorFlow SavedModel format. Once we have a model in this format, we have lots of ways to \"serve\" the model, from a web application, from JavaScript, from mobile applications, etc."
   ]
  },
  {
   "cell_type": "markdown",
   "metadata": {},
   "source": [
    "**Exercise.** Use `tf.saved_model.save` to export the trained model to a Tensorflow SavedModel format. Reference the [documentation for `tf.saved_model.save`](https://www.tensorflow.org/api_docs/python/tf/saved_model/save) as you fill in the code for the cell below.\n",
    "\n",
    "Next, print the signature of your saved model using the SavedModel Command Line Interface command `saved_model_cli`. You can read more about the command line interface and the `show` and `run` commands it supports in the [documentation here](https://www.tensorflow.org/guide/saved_model#overview_of_commands). "
   ]
  },
  {
   "cell_type": "code",
   "execution_count": 13,
   "metadata": {},
   "outputs": [
    {
     "name": "stderr",
     "output_type": "stream",
     "text": [
      "2022-07-13 18:13:29.175000: W tensorflow/python/util/util.cc:368] Sets are not currently considered sequences, but this may change in the future, so consider avoiding using them.\n"
     ]
    },
    {
     "name": "stdout",
     "output_type": "stream",
     "text": [
      "INFO:tensorflow:Assets written to: ./export/savedmodel/20220713181328/assets\n"
     ]
    }
   ],
   "source": [
    "OUTPUT_DIR = \"./export/savedmodel\"\n",
    "shutil.rmtree(OUTPUT_DIR, ignore_errors=True)\n",
    "TIMESTAMP = datetime.datetime.now().strftime(\"%Y%m%d%H%M%S\")\n",
    "\n",
    "EXPORT_PATH = os.path.join(OUTPUT_DIR, TIMESTAMP)\n",
    "\n",
    "tf.saved_model.save(\n",
    "    # TODO: Your code here\n",
    "    model, EXPORT_PATH\n",
    ")"
   ]
  },
  {
   "cell_type": "code",
   "execution_count": 14,
   "metadata": {},
   "outputs": [
    {
     "name": "stdout",
     "output_type": "stream",
     "text": [
      "The given SavedModel SignatureDef contains the following input(s):\n",
      "  inputs['input_layer_input'] tensor_info:\n",
      "      dtype: DT_FLOAT\n",
      "      shape: (-1, 4)\n",
      "      name: serving_default_input_layer_input:0\n",
      "The given SavedModel SignatureDef contains the following output(s):\n",
      "  outputs['dense_2'] tensor_info:\n",
      "      dtype: DT_FLOAT\n",
      "      shape: (-1, 1)\n",
      "      name: StatefulPartitionedCall:0\n",
      "Method name is: tensorflow/serving/predict\n",
      "./export/savedmodel/20220713181328\n",
      "./export/savedmodel/20220713181328/saved_model.pb\n",
      "./export/savedmodel/20220713181328/variables\n",
      "./export/savedmodel/20220713181328/variables/variables.index\n",
      "./export/savedmodel/20220713181328/variables/variables.data-00000-of-00001\n",
      "./export/savedmodel/20220713181328/assets\n"
     ]
    }
   ],
   "source": [
    "!saved_model_cli show \\\n",
    "    --tag_set serve \\\n",
    "    --signature_def serving_default \\\n",
    "    --dir {EXPORT_PATH}\n",
    "\n",
    "!find {EXPORT_PATH}\n",
    "os.environ['EXPORT_PATH'] = EXPORT_PATH"
   ]
  },
  {
   "cell_type": "markdown",
   "metadata": {},
   "source": [
    "## Deploy our model to Vertex AI"
   ]
  },
  {
   "cell_type": "markdown",
   "metadata": {},
   "source": [
    "Finally, we will deploy our trained model to Vertex AI and see how we can make online predicitons. "
   ]
  },
  {
   "cell_type": "code",
   "execution_count": 15,
   "metadata": {
    "tags": [
     "flake8-noqa-line-8-E501"
    ]
   },
   "outputs": [
    {
     "name": "stdout",
     "output_type": "stream",
     "text": [
      "MODEL_DISPLAYNAME: taxifare-20220713181328\n"
     ]
    }
   ],
   "source": [
    "PROJECT = !gcloud config list --format 'value(core.project)' 2>/dev/null\n",
    "PROJECT = PROJECT[0]\n",
    "BUCKET = PROJECT\n",
    "REGION = \"us-central1\"\n",
    "MODEL_DISPLAYNAME = f\"taxifare-{TIMESTAMP}\"\n",
    "\n",
    "print(f\"MODEL_DISPLAYNAME: {MODEL_DISPLAYNAME}\")\n",
    "\n",
    "# from https://cloud.google.com/vertex-ai/docs/predictions/pre-built-containers\n",
    "SERVING_CONTAINER_IMAGE_URI = (\n",
    "    \"us-docker.pkg.dev/vertex-ai/prediction/tf2-cpu.2-3:latest\"\n",
    ")\n",
    "os.environ[\"BUCKET\"] = BUCKET\n",
    "os.environ[\"REGION\"] = REGION"
   ]
  },
  {
   "cell_type": "code",
   "execution_count": 16,
   "metadata": {},
   "outputs": [
    {
     "name": "stdout",
     "output_type": "stream",
     "text": [
      "Bucket exists, let's not recreate it.\n"
     ]
    }
   ],
   "source": [
    "%%bash\n",
    "# Create GCS bucket if it doesn't exist already...\n",
    "exists=$(gsutil ls -d | grep -w gs://${BUCKET}/)\n",
    "\n",
    "if [ -n \"$exists\" ]; then\n",
    "    echo -e \"Bucket exists, let's not recreate it.\"\n",
    "else\n",
    "    echo \"Creating a new GCS bucket.\"\n",
    "    gsutil mb -l ${REGION} gs://${BUCKET}\n",
    "    echo \"\\nHere are your current buckets:\"\n",
    "    gsutil ls\n",
    "fi"
   ]
  },
  {
   "cell_type": "code",
   "execution_count": 17,
   "metadata": {
    "tags": [
     "flake8-noqa-cell"
    ]
   },
   "outputs": [
    {
     "name": "stdout",
     "output_type": "stream",
     "text": [
      "Copying file://./export/savedmodel/20220713181328/saved_model.pb [Content-Type=application/octet-stream]...\n",
      "Copying file://./export/savedmodel/20220713181328/variables/variables.index [Content-Type=application/octet-stream]...\n",
      "Copying file://./export/savedmodel/20220713181328/variables/variables.data-00000-of-00001 [Content-Type=application/octet-stream]...\n",
      "/ [3 files][173.2 KiB/173.2 KiB]                                                \n",
      "Operation completed over 3 objects/173.2 KiB.                                    \n"
     ]
    }
   ],
   "source": [
    "!gsutil cp -R $EXPORT_PATH gs://$BUCKET/$MODEL_DISPLAYNAME"
   ]
  },
  {
   "cell_type": "markdown",
   "metadata": {},
   "source": [
    "**Exercise.** Complete the code in the cell below to upload and deploy your trained model to Vertex AI using the `Model.upload` method. Have a look at [the documentation](https://googleapis.dev/python/aiplatform/latest/aiplatform.html#google.cloud.aiplatform.Model)."
   ]
  },
  {
   "cell_type": "code",
   "execution_count": 18,
   "metadata": {
    "tags": [
     "flake8-noqa-cell"
    ]
   },
   "outputs": [
    {
     "name": "stdout",
     "output_type": "stream",
     "text": [
      "Creating Model\n",
      "Create Model backing LRO: projects/40028652130/locations/us-central1/models/1002415954950356992/operations/7357188062180278272\n",
      "Model created. Resource name: projects/40028652130/locations/us-central1/models/1002415954950356992@1\n",
      "To use this Model in another session:\n",
      "model = aiplatform.Model('projects/40028652130/locations/us-central1/models/1002415954950356992@1')\n"
     ]
    }
   ],
   "source": [
    "uploaded_model = aiplatform.Model.upload(\n",
    "    display_name=MODEL_DISPLAYNAME,\n",
    "    artifact_uri=f\"gs://{BUCKET}/{MODEL_DISPLAYNAME}\",\n",
    "    serving_container_image_uri=SERVING_CONTAINER_IMAGE_URI  # TODO: Your code here\n",
    ")"
   ]
  },
  {
   "cell_type": "code",
   "execution_count": 19,
   "metadata": {},
   "outputs": [
    {
     "name": "stdout",
     "output_type": "stream",
     "text": [
      "Creating Endpoint\n",
      "Create Endpoint backing LRO: projects/40028652130/locations/us-central1/endpoints/182914754396815360/operations/2219706787257384960\n",
      "Endpoint created. Resource name: projects/40028652130/locations/us-central1/endpoints/182914754396815360\n",
      "To use this Endpoint in another session:\n",
      "endpoint = aiplatform.Endpoint('projects/40028652130/locations/us-central1/endpoints/182914754396815360')\n",
      "Deploying model to Endpoint : projects/40028652130/locations/us-central1/endpoints/182914754396815360\n"
     ]
    },
    {
     "name": "stderr",
     "output_type": "stream",
     "text": [
      "/opt/conda/lib/python3.7/site-packages/proto/marshal/rules/enums.py:40: UserWarning: Unrecognized DeploymentResourcesType enum value: 3\n",
      "  value=value,\n"
     ]
    },
    {
     "name": "stdout",
     "output_type": "stream",
     "text": [
      "Deploy Endpoint model backing LRO: projects/40028652130/locations/us-central1/endpoints/182914754396815360/operations/2014793004212027392\n",
      "Endpoint model deployed. Resource name: projects/40028652130/locations/us-central1/endpoints/182914754396815360\n"
     ]
    }
   ],
   "source": [
    "MACHINE_TYPE = \"n1-standard-2\"\n",
    "\n",
    "endpoint = uploaded_model.deploy(\n",
    "    machine_type=MACHINE_TYPE,\n",
    "    accelerator_type=None,\n",
    "    accelerator_count=None,\n",
    ")"
   ]
  },
  {
   "cell_type": "code",
   "execution_count": 20,
   "metadata": {
    "tags": [
     "flake8-noqa-cell"
    ]
   },
   "outputs": [],
   "source": [
    "instance = {\"input_layer_input\": [-73.982683, 40.742104, -73.983766, 40.755174]}"
   ]
  },
  {
   "cell_type": "markdown",
   "metadata": {},
   "source": [
    "**Exercise.** Complete the code in the cell below to call prediction on your deployed model for the example you just created in the `instance` variable above."
   ]
  },
  {
   "cell_type": "code",
   "execution_count": 21,
   "metadata": {
    "tags": [
     "flake8-noqa-cell",
     "flake8-noqa-cell-E902"
    ]
   },
   "outputs": [
    {
     "data": {
      "text/plain": [
       "Prediction(predictions=[[1194.31262]], deployed_model_id='9152937321979445248', model_version_id='', model_resource_name='projects/40028652130/locations/us-central1/models/1002415954950356992', explanations=None)"
      ]
     },
     "execution_count": 21,
     "metadata": {},
     "output_type": "execute_result"
    }
   ],
   "source": [
    "endpoint.predict([instance])"
   ]
  },
  {
   "cell_type": "code",
   "execution_count": 22,
   "metadata": {},
   "outputs": [
    {
     "name": "stdout",
     "output_type": "stream",
     "text": [
      "[(<tf.Tensor: shape=(16, 4), dtype=float32, numpy=\n",
      "array([[-73.99902 ,  40.739147, -73.99037 ,  40.717865],\n",
      "       [-73.98744 ,  40.72922 , -73.97901 ,  40.75864 ],\n",
      "       [-73.98254 ,  40.735725, -73.954796,  40.77839 ],\n",
      "       [-74.001945,  40.740505, -73.91385 ,  40.75856 ],\n",
      "       [-73.99337 ,  40.753384, -73.8609  ,  40.7329  ],\n",
      "       [-73.99624 ,  40.721848, -73.98942 ,  40.718052],\n",
      "       [-73.97705 ,  40.75846 , -73.9849  ,  40.744694],\n",
      "       [-73.9694  ,  40.757545, -73.95005 ,  40.776077],\n",
      "       [-73.97932 ,  40.76095 , -73.95767 ,  40.773724],\n",
      "       [-73.95567 ,  40.779156, -73.961174,  40.77237 ],\n",
      "       [-73.99379 ,  40.74918 , -73.95123 ,  40.770046],\n",
      "       [-73.92148 ,  40.85007 , -73.92196 ,  40.851204],\n",
      "       [-73.9777  ,  40.75653 , -73.9753  ,  40.76136 ],\n",
      "       [-73.98472 ,  40.740185, -73.99488 ,  40.733967],\n",
      "       [-73.97486 ,  40.75171 , -73.96874 ,  40.765835],\n",
      "       [-73.99494 ,  40.750175, -74.00497 ,  40.741398]], dtype=float32)>, <tf.Tensor: shape=(16,), dtype=float32, numpy=\n",
      "array([11.3,  7.7, 10.5, 16.2, 33.5,  6.9,  6.1,  9.5,  9. ,  3.3, 17. ,\n",
      "       12.5,  9.5,  7. ,  6.5,  6.5], dtype=float32)>)]\n"
     ]
    }
   ],
   "source": [
    "print(list(trainds.take(1)))"
   ]
  },
  {
   "cell_type": "markdown",
   "metadata": {},
   "source": [
    "# Cleanup\n",
    "\n",
    "When deploying a model to an endpoint for online prediction, the minimum `min-replica-count` is 1, and it is charged per node hour. So let's delete the endpoint to reduce unnecessary charges. Before we can delete the endpoint, we first undeploy all attached models... "
   ]
  },
  {
   "cell_type": "code",
   "execution_count": 23,
   "metadata": {},
   "outputs": [
    {
     "name": "stdout",
     "output_type": "stream",
     "text": [
      "Undeploying Endpoint model: projects/40028652130/locations/us-central1/endpoints/182914754396815360\n",
      "Undeploy Endpoint model backing LRO: projects/40028652130/locations/us-central1/endpoints/182914754396815360/operations/7032928889009602560\n",
      "Endpoint model undeployed. Resource name: projects/40028652130/locations/us-central1/endpoints/182914754396815360\n"
     ]
    },
    {
     "data": {
      "text/plain": [
       "<google.cloud.aiplatform.models.Endpoint object at 0x7f4a3b12bb90> \n",
       "resource name: projects/40028652130/locations/us-central1/endpoints/182914754396815360"
      ]
     },
     "execution_count": 23,
     "metadata": {},
     "output_type": "execute_result"
    }
   ],
   "source": [
    "endpoint.undeploy_all()"
   ]
  },
  {
   "cell_type": "markdown",
   "metadata": {},
   "source": [
    "...then delete the endpoint."
   ]
  },
  {
   "cell_type": "code",
   "execution_count": 24,
   "metadata": {},
   "outputs": [
    {
     "name": "stdout",
     "output_type": "stream",
     "text": [
      "Deleting Endpoint : projects/40028652130/locations/us-central1/endpoints/182914754396815360\n",
      "Delete Endpoint  backing LRO: projects/40028652130/locations/us-central1/operations/3879283249943412736\n",
      "Endpoint deleted. . Resource name: projects/40028652130/locations/us-central1/endpoints/182914754396815360\n"
     ]
    }
   ],
   "source": [
    "endpoint.delete()"
   ]
  },
  {
   "cell_type": "markdown",
   "metadata": {},
   "source": [
    "Copyright 2021 Google Inc. Licensed under the Apache License, Version 2.0 (the \"License\"); you may not use this file except in compliance with the License. You may obtain a copy of the License at http://www.apache.org/licenses/LICENSE-2.0 Unless required by applicable law or agreed to in writing, software distributed under the License is distributed on an \"AS IS\" BASIS, WITHOUT WARRANTIES OR CONDITIONS OF ANY KIND, either express or implied. See the License for the specific language governing permissions and limitations under the License"
   ]
  }
 ],
 "metadata": {
  "environment": {
   "kernel": "python3",
   "name": "tf2-gpu.2-8.m94",
   "type": "gcloud",
   "uri": "gcr.io/deeplearning-platform-release/tf2-gpu.2-8:m94"
  },
  "kernelspec": {
   "display_name": "Python 3",
   "language": "python",
   "name": "python3"
  },
  "language_info": {
   "codemirror_mode": {
    "name": "ipython",
    "version": 3
   },
   "file_extension": ".py",
   "mimetype": "text/x-python",
   "name": "python",
   "nbconvert_exporter": "python",
   "pygments_lexer": "ipython3",
   "version": "3.7.12"
  },
  "toc-autonumbering": true,
  "toc-showmarkdowntxt": false
 },
 "nbformat": 4,
 "nbformat_minor": 4
}
